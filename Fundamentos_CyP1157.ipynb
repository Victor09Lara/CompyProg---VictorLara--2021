{
  "nbformat": 4,
  "nbformat_minor": 0,
  "metadata": {
    "colab": {
      "name": "Fundamentos CyP1157.ipynb",
      "provenance": [],
      "authorship_tag": "ABX9TyNHveYdd2CBwS5DS5pq0sY9",
      "include_colab_link": true
    },
    "kernelspec": {
      "name": "python3",
      "display_name": "Python 3"
    },
    "language_info": {
      "name": "python"
    }
  },
  "cells": [
    {
      "cell_type": "markdown",
      "metadata": {
        "id": "view-in-github",
        "colab_type": "text"
      },
      "source": [
        "<a href=\"https://colab.research.google.com/github/Victor09Lara/CompyProg2022G1157/blob/main/Fundamentos_CyP1157.ipynb\" target=\"_parent\"><img src=\"https://colab.research.google.com/assets/colab-badge.svg\" alt=\"Open In Colab\"/></a>"
      ]
    },
    {
      "cell_type": "code",
      "metadata": {
        "colab": {
          "base_uri": "https://localhost:8080/"
        },
        "id": "OklliAFlVeWk",
        "outputId": "d10c404d-1436-46ee-c8e6-1f1aaab75a0b"
      },
      "source": [
        "nombre = 'Jose' # Tipo de datos String (cadena de caracteres)\n",
        "print(nombre)"
      ],
      "execution_count": 1,
      "outputs": [
        {
          "output_type": "stream",
          "name": "stdout",
          "text": [
            "Jose\n"
          ]
        }
      ]
    },
    {
      "cell_type": "markdown",
      "metadata": {
        "id": "lbwQLDIUXNM6"
      },
      "source": [
        "# Tipo de datos en Phyton\n",
        "### Tipos Simples \n",
        "- str --> String cadena de carateres \n",
        "- int --> Numeros Enteros \n",
        "- float --> Numeros con Notacion Punto Flotante \n",
        "- complex --> Numeros Complejos \n",
        "- bool --> Verdadero o Falso \n",
        "- byte --> 8 bits\n",
        "### Tipos de Datos Estructurados (Compuestos) \n",
        "- list --> Lista (Arreglos en otros Len)\n",
        "- dict --> diccionario\n",
        "- set y fronzenset --> Conjuntos \n",
        "- tuple --> Listas No Mutables "
      ]
    },
    {
      "cell_type": "code",
      "metadata": {
        "colab": {
          "base_uri": "https://localhost:8080/"
        },
        "id": "_ib-GTeDaSO4",
        "outputId": "5f9ae919-858b-4111-e7a5-33c6f4b47754"
      },
      "source": [
        "import sys\n",
        "edad= 19\n",
        "print(\"Tu edad es:\", edad)\n",
        "#este es un cometario de linea simple \n",
        "\"\"\"\n",
        "Cometario de Multiple linea \n",
        "\"\"\"\n",
        "#Tipos de datos numericos int float\n",
        "print(sys.getsizeof(edad))\n",
        "# el tipo de dato int utiliza diferentes cantidades de bytes segun el lenguaje\n",
        "#de progrmacion\n",
        "edad= edad+1\n",
        "\n",
        "print(edad)\n",
        "estatura= 1.56\n",
        "print(sys.getsizeof(estatura))\n",
        "estatura =estatura+0.1\n",
        "print(estatura)\n",
        "print(round(estatura,2))\n",
        "\n",
        "edad+=1 #edad = edad +1\n",
        "print(\"Tu edad es:\", edad)\n",
        "\n",
        "edad-=1 # edad = edad - 1\n",
        "print(\"Tu edad es:\", edad)\n",
        "\n",
        "edad+=1 # edad = edad+1/2\n",
        "edad /=2\n",
        "print(\"La mitad de tu edad es:\", edad)\n",
        "\n",
        "edad=21\n",
        "#volver a calcular la mitad de la edad para solo dejar la parte entera \n",
        "edad= edad //2 # Obliga a hacer la division en entero \n",
        "print(\"La mitad de tu edad es:\", edad)\n",
        "# en la mayoria de los leng no permite operaciones entre \n",
        "# entre diferentes tipos de datos, en phyton \n",
        "\n",
        "numero = edad/2.0\n",
        "print(numero)\n",
        "\n",
        "numero = numero*3 # simplificacion numero*3= \n",
        "print(numero)\n",
        "\n",
        "numero = 5.0 \n",
        "numero =numero**2 # lo eleva con una potencia # simplificacion numero**=2\n",
        "print(numero)\n",
        "\n",
        "#operador modulo\n",
        "numero= 21 \n",
        "print(numero/2) #print(numero//2) para entero \n",
        "#operador modulo, da el residuo de una division entera\n",
        "print(numero % 2)\n",
        "\n",
        "numero= 24\n",
        "print(\"Residuo de 24/5:\", numero % 5)\n",
        "\n",
        "\n",
        "#operadores relacionales (logicos)\n",
        "print(\"24 es par?\",numero %2 == 0)\n",
        "\n",
        "#Diferencia \n",
        "print(\"24 es diferente de 23\",numero != 23) \n",
        "print(\"24 es mayor que 23\", numero > 23) \n",
        "print(\"24 es menor que 23\", numero < 23) \n",
        "\n",
        "print(\"24 es mayor igual que 23\", numero >= 24) \n",
        "print(\"24 es menor igual que 23\", numero <= 23)\n",
        "\n",
        "print(\" El tipo de dato de la var numero es:\", type(numero))\n",
        "print(\" El tipo de dato de la var 2.0 numero es:\", type(numero/2.0))"
      ],
      "execution_count": 32,
      "outputs": [
        {
          "output_type": "stream",
          "name": "stdout",
          "text": [
            "Tu edad es: 19\n",
            "28\n",
            "20\n",
            "24\n",
            "1.6600000000000001\n",
            "1.66\n",
            "Tu edad es: 21\n",
            "Tu edad es: 20\n",
            "La mitad de tu edad es: 10.5\n",
            "La mitad de tu edad es: 10\n",
            "5.0\n",
            "15.0\n",
            "25.0\n",
            "10.5\n",
            "1\n",
            "Residuo de 24/5: 4\n",
            "24 es par? True\n",
            "24 es diferente de 23 True\n",
            "24 es mayor que 23 True\n",
            "24 es menor que 23 False\n",
            "24 es mayor igual que 23 True\n",
            "24 es menor igual que 23 False\n",
            " El tipo de dato de la var numero es: <class 'int'>\n",
            " El tipo de dato de la var 2.0 numero es: <class 'float'>\n"
          ]
        }
      ]
    },
    {
      "cell_type": "markdown",
      "metadata": {
        "id": "LEwQhZNlpkP-"
      },
      "source": [
        "#Tipo de dato String\n",
        "- Se maneja como un (tipo de dato compuesto)\n",
        "- Se puede acceder a los elementos del String por medio del indice del caracter \n",
        "- Mutable\n",
        "- Tiene metodos utilez (potentes)\n",
        "- Cuestiones de Slicing \n"
      ]
    },
    {
      "cell_type": "code",
      "metadata": {
        "colab": {
          "base_uri": "https://localhost:8080/"
        },
        "id": "tVKQwKdeqFqN",
        "outputId": "50820753-7188-4e8c-eed8-98d9caedef9c"
      },
      "source": [
        "nombre ='Jose' #palabra simple, usar ''\n",
        "carrera =\"Ingenieria en Computacion\" #palabras con mas carateres, usar \"\" \n",
        "frase = \"\"\"El conocimiento me persigue....\n",
        ", pero \n",
        "yo soy mas rapido \n",
        "\"\"\" #con mas palabras, usar \"\"\"\"\n",
        "\n",
        "print (nombre)\n",
        "print(carrera)\n",
        "print(frase)\n",
        " #La funcion type, devuelve el tipo de dato de una variable \n",
        "print (type(nombre)) \n",
        "\n",
        "paterno = str(\"Perez\")\n",
        "print(paterno)"
      ],
      "execution_count": 34,
      "outputs": [
        {
          "output_type": "stream",
          "name": "stdout",
          "text": [
            "Jose\n",
            "Ingenieria en Computacion\n",
            "El conocimiento me persigue....\n",
            ", pero \n",
            "yo soy mas rapido \n",
            "\n",
            "<class 'str'>\n",
            "Perez\n"
          ]
        }
      ]
    }
  ]
}